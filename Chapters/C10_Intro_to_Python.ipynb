{
  "nbformat": 4,
  "nbformat_minor": 0,
  "metadata": {
    "colab": {
      "name": "C10 Intro to Python.ipynb",
      "provenance": [],
      "private_outputs": true,
      "authorship_tag": "ABX9TyNk68RJ+x1iqTPOgM6MRNgg",
      "include_colab_link": true
    },
    "kernelspec": {
      "name": "python3",
      "display_name": "Python 3"
    }
  },
  "cells": [
    {
      "cell_type": "markdown",
      "metadata": {
        "id": "view-in-github",
        "colab_type": "text"
      },
      "source": [
        "<a href=\"https://colab.research.google.com/github/cagBRT/Intro-to-Programming-with-Python/blob/master/C10_Intro_to_Python.ipynb\" target=\"_parent\"><img src=\"https://colab.research.google.com/assets/colab-badge.svg\" alt=\"Open In Colab\"/></a>"
      ]
    },
    {
      "cell_type": "markdown",
      "metadata": {
        "id": "I4CnEl6niUkn",
        "colab_type": "text"
      },
      "source": [
        "# **Dictionary**\n",
        "A dictionary is used to map or associate things you want to store the keys you need to get them. A dictionary in Python is just like a dictionary in the real world. \n",
        "\n",
        "<br>Python Dictionary are defined into two elements Keys and Values.\n",
        "\n",
        "Keys will be a single element<br>\n",
        "Values can be any Python datatype<br>"
      ]
    },
    {
      "cell_type": "markdown",
      "metadata": {
        "id": "W9PISo2bzq7z",
        "colab_type": "text"
      },
      "source": [
        "To create a dictionary: <br>\n",
        "dictionary-name = {key:value, key:value, ...., key:value}<br>\n",
        "<br>\n",
        "More commonly it is written as: <br>\n",
        "d = {\n",
        " >   key: value,<br>\n",
        "    key: value,<br>\n",
        "      .<br>\n",
        "      .<br>\n",
        "      .<br>\n",
        "    key: value<br>\n",
        " }<br>"
      ]
    },
    {
      "cell_type": "code",
      "metadata": {
        "id": "h8jC0dKOiQgW",
        "colab_type": "code",
        "colab": {}
      },
      "source": [
        "released = {\n",
        "\t\t\"iphone\" : 2007,\n",
        "\t\t\"iphone 3G\" : 2008,\n",
        "\t\t\"iphone 3GS\" : 2009,\n",
        "\t\t\"iphone 4\" : 2010,\n",
        "\t\t\"iphone 4S\" : 2011,\n",
        "\t\t\"iphone 5\" : 2012\n",
        "\t}\n",
        "print (released)"
      ],
      "execution_count": 0,
      "outputs": []
    },
    {
      "cell_type": "code",
      "metadata": {
        "id": "j2zCemowzM6W",
        "colab_type": "code",
        "colab": {}
      },
      "source": [
        "#Print the keys for the dictionary\n",
        "print (released.keys())"
      ],
      "execution_count": 0,
      "outputs": []
    },
    {
      "cell_type": "code",
      "metadata": {
        "id": "4K9Cx5xbzl3J",
        "colab_type": "code",
        "colab": {}
      },
      "source": [
        "#Print the values for the dictionary\n",
        "print (released.values())"
      ],
      "execution_count": 0,
      "outputs": []
    },
    {
      "cell_type": "markdown",
      "metadata": {
        "id": "X_2W2jlB0VWV",
        "colab_type": "text"
      },
      "source": [
        "# **Assignment #1**\n",
        "Create a dictionary called MLB_team.<br>\n",
        "Pick 10 teams from the list. <br>\n",
        "Use the city or state name as the key<br>\n",
        "Use the team name as the value<br>\n",
        "\n",
        "Use the following information: <br>\n",
        "\n",
        "**National League**<br>\n",
        "\n",
        "East<br>\n",
        "\n",
        "Atlanta Braves<br>\n",
        "Miami Marlins<br>\n",
        "New York Mets<br>\n",
        "Philadelphia Phillies<br>\n",
        "Washington Nationals<br>\n",
        "Central<br>\n",
        "Chicago Cubs<br>\n",
        "Cincinnati Reds<br>\n",
        "Milwaukee Brewers<br>\n",
        "Pittsburgh Pirates<br>\n",
        "St. Louis Cardinals<br>\n",
        "\n",
        "West<br>\n",
        "Arizona Diamondbacks<br>\n",
        "Colorado Rockies<br>\n",
        "Los Angeles Dodgers<br>\n",
        "San Diego Padres<br>\n",
        "San Francisco Giants<br>\n",
        "\n",
        "**American League**<br>\n",
        "\n",
        "East<br>\n",
        "Baltimore Orioles<br>\n",
        "Boston Red Sox<br>\n",
        "New York Yankees<br>\n",
        "Tampa Bay Rays<br>\n",
        "Toronto Blue Jays<br>\n",
        "\n",
        "Central<br>\n",
        "Chicago White Sox<br>\n",
        "Cleveland Indians<br>\n",
        "Detroit Tigers<br>\n",
        "Kansas City Royals<br>\n",
        "Minnesota Twins<br>\n",
        "\n",
        "West<br>\n",
        "Houston Astros<br>\n",
        "Los Angeles Angels<br>\n",
        "Oakland Athletics<br>\n",
        "Seattle Mariners<br>\n",
        "Texas Rangers<br>"
      ]
    },
    {
      "cell_type": "code",
      "metadata": {
        "id": "Mql7uCHq0X52",
        "colab_type": "code",
        "colab": {}
      },
      "source": [
        "#Assignment #1\n"
      ],
      "execution_count": 0,
      "outputs": []
    },
    {
      "cell_type": "markdown",
      "metadata": {
        "id": "fT8xQhUq3PHG",
        "colab_type": "text"
      },
      "source": [
        "# **Assignment #2**\n",
        "What happens when two or more entries have the same key value? \n",
        "<br>\n",
        "Write code to check your answer."
      ]
    },
    {
      "cell_type": "code",
      "metadata": {
        "id": "-K-iKAzf3PVn",
        "colab_type": "code",
        "colab": {}
      },
      "source": [
        "#Assignment #2"
      ],
      "execution_count": 0,
      "outputs": []
    },
    {
      "cell_type": "markdown",
      "metadata": {
        "id": "Gs17l6-qz_Qi",
        "colab_type": "text"
      },
      "source": [
        "Sort the dictionary by key using a 'for' loop"
      ]
    },
    {
      "cell_type": "code",
      "metadata": {
        "id": "z80m__r2z_Y4",
        "colab_type": "code",
        "colab": {}
      },
      "source": [
        "for key, value in sorted(released.items()):\n",
        "    print (key, value)"
      ],
      "execution_count": 0,
      "outputs": []
    },
    {
      "cell_type": "code",
      "metadata": {
        "id": "vOe1CGdL0KJM",
        "colab_type": "code",
        "colab": {}
      },
      "source": [
        "for value, key in sorted(released.items()):\n",
        "    print (key, value)"
      ],
      "execution_count": 0,
      "outputs": []
    },
    {
      "cell_type": "markdown",
      "metadata": {
        "id": "4pjbNjVo3gXe",
        "colab_type": "text"
      },
      "source": [
        "**Accessing Dictionary elements**<br>\n",
        "Dictionary elements are not accessed by their index. <br>\n",
        "Dictionary elements are accessed by their key. <br>"
      ]
    },
    {
      "cell_type": "code",
      "metadata": {
        "id": "cm9i97Tg3giz",
        "colab_type": "code",
        "colab": {}
      },
      "source": [
        "#Access the element by its key\n",
        "released['iphone 5']"
      ],
      "execution_count": 0,
      "outputs": []
    },
    {
      "cell_type": "markdown",
      "metadata": {
        "id": "7h3eloiHDWoO",
        "colab_type": "text"
      },
      "source": [
        "# **Assignment #3**\n",
        "Using the dictionary you made called MLB_team,\n",
        "1. Sort it by key.\n",
        "2. Access each element in the dictionary and print it out. \n",
        "\n",
        "<br>\n",
        "Hint: you can use a 'for' loop"
      ]
    },
    {
      "cell_type": "code",
      "metadata": {
        "id": "vTgZj9IGDWx1",
        "colab_type": "code",
        "colab": {}
      },
      "source": [
        "#Assignment #3"
      ],
      "execution_count": 0,
      "outputs": []
    },
    {
      "cell_type": "markdown",
      "metadata": {
        "id": "nADVdGW1AmU6",
        "colab_type": "text"
      },
      "source": [
        "Note: <br>\n",
        "Although access to items in a dictionary does not depend on <br>order, **Python guarantees that the order of items in a <br>dictionary is preserved**. When displayed, items will <br>appear in the order they were defined, and iteration <br>through the keys will occur in that order as well.<br> **Items added to a dictionary are added at the end**. <br>If items are deleted, the order of the remaining items is retained."
      ]
    },
    {
      "cell_type": "markdown",
      "metadata": {
        "id": "kKHh16LuEGaF",
        "colab_type": "text"
      },
      "source": [
        "**Adding to the dictionary**<br>\n",
        "Add to a dictionary by just assigning a new key and value. <br>\n",
        "For example:<br>\n",
        "MLB_team[key] = value"
      ]
    },
    {
      "cell_type": "markdown",
      "metadata": {
        "id": "81q0qOQrD7ot",
        "colab_type": "text"
      },
      "source": [
        "# **Assignment #4**\n",
        "Add 10 more teams to the dictionary called MLB_team. \n"
      ]
    },
    {
      "cell_type": "code",
      "metadata": {
        "id": "_BmVY1FAAw6Y",
        "colab_type": "code",
        "colab": {}
      },
      "source": [
        "#Assignment #4"
      ],
      "execution_count": 0,
      "outputs": []
    }
  ]
}