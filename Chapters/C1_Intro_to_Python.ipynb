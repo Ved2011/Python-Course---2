{
  "cells": [
    {
      "cell_type": "markdown",
      "metadata": {
        "colab_type": "text",
        "id": "view-in-github"
      },
      "source": [
        "<a href=\"https://colab.research.google.com/github/Ved2011/Python-Course---2/blob/main/C1_Intro_to_Python.ipynb\" target=\"_parent\"><img src=\"https://colab.research.google.com/assets/colab-badge.svg\" alt=\"Open In Colab\"/></a>"
      ]
    },
    {
      "cell_type": "markdown",
      "metadata": {
        "id": "lfjXvTKGwXsd"
      },
      "source": [
        "![picture](https://media.tenor.com/tT57ofXKP8MAAAAC/run-away.gif)"
      ]
    },
    {
      "cell_type": "markdown",
      "metadata": {
        "id": "oHTlWjyrvnyz"
      },
      "source": [
        "![picture](https://github.com/cagBRT/Intro-to-Programming-with-Python/blob/master/c1-content/c1PythonProgramming7.png?raw=1)"
      ]
    },
    {
      "cell_type": "markdown",
      "metadata": {
        "id": "x7u-ofjQI0l5"
      },
      "source": [
        "# **Introduction to Machine Learning Programming with Python**"
      ]
    },
    {
      "cell_type": "markdown",
      "metadata": {
        "id": "Ia07M95OwEX7"
      },
      "source": [
        "Python offers concise and readable code. While complex algorithms and versatile workflows stand behind machine learning and AI, Python's simplicity allows developers to write reliable systems. Developers get to put all their effort into solving an ML problem instead of focusing on the technical nuances of the language."
      ]
    },
    {
      "cell_type": "code",
      "execution_count": null,
      "metadata": {
        "id": "2p3XCkuwIvY7"
      },
      "outputs": [],
      "source": [
        "#Print a string\n",
        "print(\"hello world!\")"
      ]
    },
    {
      "cell_type": "markdown",
      "metadata": {
        "id": "q7Kdx548lTUg"
      },
      "source": [
        "# **Assignment #0**\n",
        "1. Write Python code to print\n",
        "<br> Hello world, it's me, your-name\n"
      ]
    },
    {
      "cell_type": "code",
      "execution_count": null,
      "metadata": {
        "id": "8dSd5_oKJR0G"
      },
      "outputs": [],
      "source": [
        "#Assignment 0\n",
        "#Use comments to explain how your program works.\n",
        "#Comments begin with a hashtag.\n",
        "\n",
        "#TODO - when you see TODO - that is where you are to add code."
      ]
    },
    {
      "cell_type": "markdown",
      "metadata": {
        "id": "_MdQdSKzMMqB"
      },
      "source": [
        "Python was designed to be very easy to read.<br>\n",
        "Your code should be easy to read.\n",
        "<br><br>\n",
        "**In Python, indenting is important. **\n",
        "<br>\n",
        "In most other programming languages, indentation is used only to help make the code look pretty. But in Python, it is required for indicating what block of code a statement belongs to.\n"
      ]
    },
    {
      "cell_type": "markdown",
      "metadata": {
        "id": "J9wfHaX-v33l"
      },
      "source": [
        "![picture](https://github.com/cagBRT/Intro-to-Programming-with-Python/blob/master/c1-content/c1PythonProgramming1.png?raw=1)"
      ]
    },
    {
      "cell_type": "markdown",
      "metadata": {
        "id": "tUr-hOynv67q"
      },
      "source": [
        "![picture](https://github.com/cagBRT/Intro-to-Programming-with-Python/blob/master/c1-content/c1PythonProgramming2.png?raw=1)"
      ]
    },
    {
      "cell_type": "code",
      "execution_count": null,
      "metadata": {
        "id": "yJY0iNBVg2QG"
      },
      "outputs": [],
      "source": [
        "#Python indenting example\n",
        "#This line has no indent\n",
        "print(\"indenting has meaning in Python\")\n",
        "print(\"no indent\")"
      ]
    },
    {
      "cell_type": "code",
      "execution_count": null,
      "metadata": {
        "id": "XgBOjehbhT0T"
      },
      "outputs": [],
      "source": [
        "#Python indenting example\n",
        "#This line has an incorrect indent\n",
        "#and will not compile correctly\n",
        "print(\"indenting has meaning in Python\")\n",
        "  print(\"no indent\")"
      ]
    },
    {
      "cell_type": "markdown",
      "metadata": {
        "id": "92boKm1MEOEl"
      },
      "source": [
        "# Variables"
      ]
    },
    {
      "cell_type": "markdown",
      "metadata": {
        "id": "fOwPNAuZMZPd"
      },
      "source": [
        "Variables are containers for storing data values."
      ]
    },
    {
      "cell_type": "code",
      "execution_count": null,
      "metadata": {
        "id": "y1rVfWFpLp_H"
      },
      "outputs": [],
      "source": [
        "#Assign variables\n",
        "first_name = \"John\"\n",
        "last_name = \"Deere\"\n",
        "print(first_name, last_name)"
      ]
    },
    {
      "cell_type": "markdown",
      "metadata": {
        "id": "FrAgqakRNSpy"
      },
      "source": [
        "# **Assignment #1**\n",
        "1. Add a comment line listing your name, and the assignment number.\n",
        "2. Assign the variable first_name the value of your first name<br>\n",
        "3. Assign the variable last_name the value of your last name<br>\n",
        "4. Print the variables on the same line. <br>"
      ]
    },
    {
      "cell_type": "code",
      "execution_count": 6,
      "metadata": {
        "id": "Qw9CGcwZOEVe"
      },
      "outputs": [
        {
          "name": "stdout",
          "output_type": "stream",
          "text": [
            "Ved Patel\n"
          ]
        }
      ],
      "source": [
        "#Add comment and variables\n",
        "#Print name\n",
        "#TODO\n",
        "first_name = \"Ved\"\n",
        "last_name = \"Patel\"\n",
        "print(first_name,last_name)"
      ]
    },
    {
      "cell_type": "markdown",
      "metadata": {
        "id": "WVf7WE2oOGeA"
      },
      "source": [
        "Variable names are case-sensitive\n",
        "firstName is a different variable than FirstName"
      ]
    },
    {
      "cell_type": "code",
      "execution_count": null,
      "metadata": {
        "id": "zcOXKKmVOUvI"
      },
      "outputs": [],
      "source": [
        "#Variable names are case sensitive\n",
        "first_name = \"Cali\"\n",
        "First_Name = \"Janice\"\n",
        "print(first_name)\n",
        "print(First_Name)"
      ]
    },
    {
      "cell_type": "markdown",
      "metadata": {
        "id": "ySFRluvOOs-o"
      },
      "source": [
        "# **Assignment #2**\n",
        "Create two variables: last_name, Last_Name<br>\n",
        "Assign the variables values<br>\n",
        "Print the variables on separate lines. <br>"
      ]
    },
    {
      "cell_type": "code",
      "execution_count": 4,
      "metadata": {
        "id": "hRAoAYr3PUpp"
      },
      "outputs": [
        {
          "name": "stdout",
          "output_type": "stream",
          "text": [
            "ved\n",
            "Ved\n"
          ]
        }
      ],
      "source": [
        "#Capitalization matters\n",
        "\n",
        "#TODO\n",
        "first_name = \"ved\"\n",
        "First_Name = \"Ved\"\n",
        "print(first_name)\n",
        "print(First_Name)"
      ]
    },
    {
      "cell_type": "markdown",
      "metadata": {
        "id": "3O0PXaO6PV7B"
      },
      "source": [
        "#Use the internet when programming!\n",
        "When programming, the internet is your friend. <br>\n",
        "Lots of Pythn code is available online. <br>\n",
        "1. When searching the internet, write Python first<br>\n",
        "For example: \"python assign multiple variables on one line\"\n",
        "2. Look at the results, usually the first one or two will tell you how to create multiple variables on the same line."
      ]
    },
    {
      "cell_type": "markdown",
      "metadata": {
        "id": "NKRoxiBnMHIj"
      },
      "source": [
        "**For learning Python try**:\n",
        "\n",
        "\n",
        "*   [https://www.w3schools.com/python/python_operators.asp](https://www.w3schools.com/python/python_operators.asp)\n",
        "<br><br>\n",
        "\n",
        "**For looking for particular code solutions try**:\n",
        "\n",
        "*   Stack Overflow\n",
        "<br><br>\n",
        "\n",
        "**For Python coding standards try: bold text**\n",
        "\n",
        "\n",
        "*   http://google.github.io/styleguide/pyguide.html\n",
        "*   https://sphinxcontrib-napoleon.readthedocs.io/en/latest/example_google.html\n",
        "\n",
        "\n",
        "\n",
        "\n",
        "\n",
        "\n"
      ]
    },
    {
      "cell_type": "markdown",
      "metadata": {
        "id": "k40h1u9YQl13"
      },
      "source": [
        "# **Assignment #3**\n",
        "Create and assign three variables on one line. <br>\n",
        "Print out the variable values.\n",
        "\n",
        "*   A variable name must start with a letter or the underscore character\n",
        "*   A variable name cannot start with a number\n",
        "\n",
        "*   A variable name can only contain alpha-numeric characters and underscores (A-z, 0-9, and _ )\n",
        "*   Variable names are case-sensitive (age, Age and AGE are three different variables)\n"
      ]
    },
    {
      "cell_type": "code",
      "execution_count": 8,
      "metadata": {
        "id": "JGgwXg8DRBIo"
      },
      "outputs": [
        {
          "name": "stdout",
          "output_type": "stream",
          "text": [
            "1 2 3\n"
          ]
        }
      ],
      "source": [
        "#Search the internet to find the answer\n",
        "#How to assign 3 variables on one line\n",
        "\n",
        "#TODO\n",
        "A ,B,C = 1,2,3\n",
        "print(A,B,C)\n"
      ]
    },
    {
      "cell_type": "markdown",
      "metadata": {
        "id": "k9p_4UHQRNEf"
      },
      "source": [
        "Print the variable name and the value in the form: <br>\n",
        "variableName = value <br>\n"
      ]
    },
    {
      "cell_type": "code",
      "execution_count": null,
      "metadata": {
        "id": "rF68R6cIRl_P"
      },
      "outputs": [],
      "source": [
        "#Example of writing the variableName and the value\n",
        "variable1 = 'Paul'\n",
        "variable2 = 'Bunyon'\n",
        "\n",
        "#print a string then the value of the variable\n",
        "print(\"variable1 = \" , variable1)\n",
        "print(\"variable2 = \" , variable2)"
      ]
    },
    {
      "cell_type": "markdown",
      "metadata": {
        "id": "DnfW331iS2w3"
      },
      "source": [
        "# **Assignment #4**\n",
        "Create and assign values to two variables<br>\n",
        "Print out the variable names and values."
      ]
    },
    {
      "cell_type": "code",
      "execution_count": 9,
      "metadata": {
        "id": "uO7l_lQv9vpP"
      },
      "outputs": [
        {
          "name": "stdout",
          "output_type": "stream",
          "text": [
            "variable1 =  23\n",
            "variable2 =  34\n"
          ]
        }
      ],
      "source": [
        "#Print a string and a variable value\n",
        "\n",
        "#TODO\n",
        "variable1 = 23\n",
        "variable2 = 34\n",
        "print(\"variable1 = \" , variable1)\n",
        "print(\"variable2 = \" , variable2)"
      ]
    },
    {
      "cell_type": "markdown",
      "metadata": {
        "id": "pKQbUwTPTJp5"
      },
      "source": [
        "Variables can be strings: <br>\n",
        "\n",
        "\n",
        "> name = \"Blue River\"<br>\n",
        "\n",
        "\n",
        "\n",
        "Variables can also be numbers:<br>\n",
        "\n",
        "\n",
        ">   length = 6<br>\n",
        "  width = 4.5\n",
        "\n"
      ]
    },
    {
      "cell_type": "markdown",
      "metadata": {
        "id": "wnuGVmtLUWpD"
      },
      "source": [
        "Number variables can be:\n",
        "\n",
        "\n",
        "> Integers (which are whole numbers)\n",
        "\n",
        "\n",
        "> Floating Point Numbers (which are real numbers)\n",
        "\n",
        "\n",
        "\n"
      ]
    },
    {
      "cell_type": "code",
      "execution_count": null,
      "metadata": {
        "id": "mMprazYaUuyR"
      },
      "outputs": [],
      "source": [
        "#Assigning integer variables\n",
        "number_of_customers = 65\n",
        "number_of_shopping_carts = 60\n",
        "print(number_of_customers, number_of_shopping_carts)"
      ]
    },
    {
      "cell_type": "code",
      "execution_count": null,
      "metadata": {
        "id": "5z771zx1VUcW"
      },
      "outputs": [],
      "source": [
        "#Assigning float variables\n",
        "mpg = 24.5\n",
        "miles = 100.5\n",
        "print(mpg, miles)"
      ]
    },
    {
      "cell_type": "markdown",
      "metadata": {
        "id": "miTOcS4eV68w"
      },
      "source": [
        "# **Assignment #5**\n",
        "Create two integer variables.<br>\n",
        "Create two float variables<br>\n",
        "Print out the variable names and values."
      ]
    },
    {
      "cell_type": "code",
      "execution_count": 12,
      "metadata": {
        "id": "jeNcIiSdWSEf"
      },
      "outputs": [
        {
          "name": "stdout",
          "output_type": "stream",
          "text": [
            "f1 =  1.0\n",
            "f2 =  2.0\n",
            "i1 =  3\n",
            "i2 =  4\n"
          ]
        }
      ],
      "source": [
        "#Print int and float variable names and values\n",
        "f1 = 1.0\n",
        "f2 = 2.0\n",
        "i1 = 3\n",
        "i2 = 4\n",
        "print(\"f1 = \",f1)\n",
        "print(\"f2 = \",f2)\n",
        "print(\"i1 = \",i1)\n",
        "print(\"i2 = \", i2)"
      ]
    },
    {
      "cell_type": "markdown",
      "metadata": {
        "id": "CGFrEZOqVxuu"
      },
      "source": [
        "You can add strings or numbers using the '+\" sign."
      ]
    },
    {
      "cell_type": "code",
      "execution_count": null,
      "metadata": {
        "id": "T0dUm_zbV59D"
      },
      "outputs": [],
      "source": [
        "#Add two Python strings\n",
        "first_statement = \"I want to go to the movies\"\n",
        "second_statement = \"tonight\"\n",
        "#Print the two variables side by side\n",
        "print(first_statement, second_statement)\n",
        "#Add the two variables and make a new variable\n",
        "complete_statement = first_statement + second_statement\n",
        "print(complete_statement)"
      ]
    },
    {
      "cell_type": "markdown",
      "metadata": {
        "id": "aGfaidgSXMQR"
      },
      "source": [
        "# **Assignment #6**\n",
        "When the two string variables are added together, there is no space between them. <br>\n",
        "Rewrite the code to add a space between \"movies\" and \"tonight\" in completeStatement variable."
      ]
    },
    {
      "cell_type": "code",
      "execution_count": 13,
      "metadata": {
        "id": "ncbpUujrXxOa"
      },
      "outputs": [
        {
          "name": "stdout",
          "output_type": "stream",
          "text": [
            "movies tonight?\n"
          ]
        }
      ],
      "source": [
        "#Rewrite the code shown above to add a space in the string variable complete_statement\n",
        "s1 = \"movies\"\n",
        "s2 = \"tonight?\"\n",
        "print(s1,s2)"
      ]
    },
    {
      "cell_type": "markdown",
      "metadata": {
        "id": "J0hyHwPt-s2s"
      },
      "source": [
        "String variables can be only be added (also called concatenated).<br>\n",
        "Any other math function will produce an error."
      ]
    },
    {
      "cell_type": "code",
      "execution_count": null,
      "metadata": {
        "id": "Fc3Havab_AE1"
      },
      "outputs": [],
      "source": [
        "#Strings can only be concatenated\n",
        "string1 = \"hello\"\n",
        "string2 = \"bye\"\n",
        "string3 = string1 + \" \" + string2\n",
        "#The next line will produce an error\n",
        "string4 = string1 - string2"
      ]
    },
    {
      "cell_type": "markdown",
      "metadata": {
        "id": "nSUf1fSjEXis"
      },
      "source": [
        "# Operators"
      ]
    },
    {
      "cell_type": "markdown",
      "metadata": {
        "id": "6lQJcW_N__li"
      },
      "source": [
        "Python has a number of arithmetic operators. <br>"
      ]
    },
    {
      "cell_type": "code",
      "execution_count": 14,
      "metadata": {
        "id": "_DkDdl0KDXZv"
      },
      "outputs": [
        {
          "name": "stdout",
          "output_type": "stream",
          "text": [
            "Object `(3)` not found\n"
          ]
        }
      ],
      "source": [
        "page(3)"
      ]
    },
    {
      "cell_type": "markdown",
      "metadata": {
        "id": "UzvVsIm0m3RP"
      },
      "source": [
        "# **Getting input from users**<br>\n",
        "Sometimes you will want to get input from users, you can do it with the code below."
      ]
    },
    {
      "cell_type": "code",
      "execution_count": null,
      "metadata": {
        "id": "HhB80idrmMKd"
      },
      "outputs": [],
      "source": [
        "#Ask for two inputs from the user\n",
        "#the inputs will be assigned as strings\n",
        "integer1 = input(\"integer1 =  \")\n",
        "integer2 = input(\"integer2 =  \")\n",
        "#We want the inputs to be integers\n",
        "#so cast them as integers\n",
        "integer1 = int(integer1)\n",
        "integer2 = int(integer2)\n"
      ]
    },
    {
      "cell_type": "markdown",
      "metadata": {
        "id": "8mWt6yFi3Q7z"
      },
      "source": [
        "**Ask the user for input**<br>\n",
        "Write code to ask users for string input"
      ]
    },
    {
      "cell_type": "code",
      "execution_count": null,
      "metadata": {
        "id": "M1BVK0Xh3QYM"
      },
      "outputs": [],
      "source": [
        "#Ask users for input\n",
        "#Ask the users first_name\n",
        "#Ask the users last_name\n",
        "#Print Hello, first_name last_name"
      ]
    },
    {
      "cell_type": "markdown",
      "metadata": {
        "id": "GCmfeB6U30E5"
      },
      "source": [
        "Ask the user for input\n",
        "Write code to ask users for integer input"
      ]
    },
    {
      "cell_type": "code",
      "execution_count": null,
      "metadata": {
        "id": "E-7nBaHP36vf"
      },
      "outputs": [],
      "source": [
        "#Ask the users for:\n",
        "#Two integers\n",
        "#Print out the values"
      ]
    },
    {
      "cell_type": "markdown",
      "metadata": {
        "id": "oTTpE7rB4Qn6"
      },
      "source": []
    },
    {
      "cell_type": "code",
      "execution_count": null,
      "metadata": {
        "id": "2odORhY-Nb7Y"
      },
      "outputs": [],
      "source": [
        "#You can now use the two user inputs in the code\n",
        "#demonstrate the arithmetic operators\n",
        "sum = integer1 + integer2\n",
        "difference = integer1 - integer2\n",
        "product = integer1 * integer2\n",
        "div = integer1 / integer2\n",
        "mod = integer1 % integer2\n",
        "exponent = integer1 ** integer2\n",
        "floor = integer1 // integer2\n",
        "\n",
        "print(\"sum = \", sum)\n",
        "print(\"difference = \", difference)\n",
        "print(\"product = \", product)\n",
        "print(\"div = \", div)\n",
        "print(\"mod = \", mod)\n",
        "print(\"exponent = \", exponent)\n",
        "print(\"floor = \", floor)"
      ]
    },
    {
      "cell_type": "markdown",
      "metadata": {
        "id": "mF1zBdqzPGvK"
      },
      "source": [
        "# **Assignment #7**\n",
        " Write a program that calculates and prints the area of triangle. <br>\n",
        " The triangle has:\n",
        " base = 12<br>\n",
        " height = 32<br>\n",
        "\n",
        " The area of a triangle is A = 1/2(base * height)\n",
        "\n",
        "The output should have the following format:<br>\n",
        "The area of the triangle is: ##"
      ]
    },
    {
      "cell_type": "code",
      "execution_count": 17,
      "metadata": {
        "id": "pRgcxgPcN4sD"
      },
      "outputs": [],
      "source": [
        "#Assignment #7\n",
        "#Caluculate the area of a triangle\n",
        "#TODO\n"
      ]
    },
    {
      "cell_type": "markdown",
      "metadata": {
        "id": "GfNMO7MyQ1W0"
      },
      "source": [
        "Python has a number of assignment operators <br>\n",
        "Assignment operators are used to assign values to variables. <br>\n"
      ]
    },
    {
      "cell_type": "markdown",
      "metadata": {
        "id": "KDImQzEAwCGj"
      },
      "source": [
        "![picture](https://github.com/cagBRT/Intro-to-Programming-with-Python/blob/master/c1-content/c1PythonProgramming4.png?raw=1)"
      ]
    },
    {
      "cell_type": "code",
      "execution_count": 18,
      "metadata": {
        "id": "_01hNLG6UrH_"
      },
      "outputs": [
        {
          "name": "stdout",
          "output_type": "stream",
          "text": [
            "x *= 3  21\n",
            "x * 3 = 21\n"
          ]
        }
      ],
      "source": [
        "#Show that the arithmetic operator and the assignment operator\n",
        "#produce the same values\n",
        "x = 7\n",
        "x *= 3\n",
        "print(\"x *= 3 \",x)\n",
        "\n",
        "x = 7\n",
        "x = x * 3\n",
        "print(\"x * 3 =\",x)"
      ]
    },
    {
      "cell_type": "markdown",
      "metadata": {
        "id": "NjLor84USULZ"
      },
      "source": [
        "# **Assignment #8**\n",
        "Write a program to demonstrate that the arithmetic operations produce the same values as the assignment operators. <br>\n",
        "For example: <br>\n",
        "\n"
      ]
    },
    {
      "cell_type": "code",
      "execution_count": null,
      "metadata": {
        "id": "WWuvuF6P3CXz"
      },
      "outputs": [],
      "source": [
        "#Assignment 8\n",
        "#TODO"
      ]
    },
    {
      "cell_type": "markdown",
      "metadata": {
        "id": "sbvPpeqw_1ZT"
      },
      "source": [
        "Variables can also be True/False values (also called Boolean values). <br>\n",
        "Boolean values can be True or False. <br>\n",
        "They are often used with comparison, logical, and identity operators."
      ]
    },
    {
      "cell_type": "markdown",
      "metadata": {
        "id": "eLDEYYXAD4Su"
      },
      "source": [
        "# Comparison operators"
      ]
    },
    {
      "cell_type": "markdown",
      "metadata": {
        "id": "kTiBq7WUwF2M"
      },
      "source": [
        "![picture](https://github.com/cagBRT/Intro-to-Programming-with-Python/blob/master/c1-content/c1PythonProgramming3.png?raw=1)"
      ]
    },
    {
      "cell_type": "markdown",
      "metadata": {
        "id": "PR-EKd12wIsh"
      },
      "source": [
        "![picture](https://github.com/cagBRT/Intro-to-Programming-with-Python/blob/master/c1-content/c1PythonProgramming5.png?raw=1)"
      ]
    },
    {
      "cell_type": "code",
      "execution_count": null,
      "metadata": {
        "id": "Y2UicGGFEi_6"
      },
      "outputs": [],
      "source": [
        "#Example of comparison operators\n",
        "x = 9\n",
        "y = 9\n",
        "z = (x==y)\n",
        "print(z)\n",
        "\n",
        "w = 9.0\n",
        "print(x==w)\n",
        "\n",
        "v = 9.5\n",
        "print(x==v)"
      ]
    },
    {
      "cell_type": "markdown",
      "metadata": {
        "id": "Tu82y6dLE3Ke"
      },
      "source": [
        "# **Assignment #9**\n",
        "Write a program that produces a True then a False value for each comparison operator. <br>\n",
        "\n"
      ]
    },
    {
      "cell_type": "code",
      "execution_count": null,
      "metadata": {
        "id": "UIN9s_sGFen2"
      },
      "outputs": [],
      "source": [
        "#Assignment #9\n",
        "#TODO comparison operators"
      ]
    },
    {
      "cell_type": "markdown",
      "metadata": {
        "id": "uqwOWrhkECSx"
      },
      "source": [
        "# Logical operators"
      ]
    },
    {
      "cell_type": "code",
      "execution_count": null,
      "metadata": {
        "id": "PutrSh13DMsV"
      },
      "outputs": [],
      "source": [
        "page(6)"
      ]
    },
    {
      "cell_type": "code",
      "execution_count": null,
      "metadata": {
        "cellView": "code",
        "id": "vRtrX8jbGC-E"
      },
      "outputs": [],
      "source": [
        "#and Example\n",
        "x = 9\n",
        "y = 4\n",
        "z = (x < 10) and (x > 8)\n",
        "print(z)"
      ]
    },
    {
      "cell_type": "markdown",
      "metadata": {
        "id": "0OQjvC5xHY_j"
      },
      "source": [
        "# **Assignment #10**\n",
        "Write a program that produces a True value for each logical operator. Then a False value for each logical operator when\n",
        "\n",
        "\n",
        "*   x = 32\n",
        "*   y = 89\n",
        "\n"
      ]
    },
    {
      "cell_type": "code",
      "execution_count": null,
      "metadata": {
        "id": "uxWQGRxsHFWk"
      },
      "outputs": [],
      "source": [
        "#Assignment 10\n",
        "#Print an example of a true and false statement for each logical operator.\n",
        "\n",
        "#TODO"
      ]
    },
    {
      "cell_type": "markdown",
      "metadata": {
        "id": "QXU59uFHmQ8r"
      },
      "source": [
        "# Python Data Types <br>\n",
        "\n",
        "You have seen that variables can have different types and can do different things.\n",
        "<br>\n",
        "In ML it is sometimes helpful to know or change a variables data type. <br>\n",
        "\n",
        "You find and then change a variable's data type in this notebook."
      ]
    },
    {
      "cell_type": "code",
      "execution_count": null,
      "metadata": {
        "id": "6lGIFMX2lJYQ"
      },
      "outputs": [],
      "source": [
        "#Variable types are set when you assign the variable\n",
        "#Use type() to determine a variable's type\n",
        "x = 439\n",
        "print(type(x))"
      ]
    },
    {
      "cell_type": "markdown",
      "metadata": {
        "id": "kAqSQorippyZ"
      },
      "source": [
        "# **Assignment 11**\n",
        "1. Add a comment line listing your name, and the assignment number.\n",
        "2. Assign a variable the value 10.23\n",
        "3. Assign a variable the value \"John Deere\"\n",
        "4. Assign a variable the value 897\n",
        "5. Print the types for each of these variables"
      ]
    },
    {
      "cell_type": "code",
      "execution_count": null,
      "metadata": {
        "id": "VAQoMueqpDHb"
      },
      "outputs": [],
      "source": [
        "#Assignment #1 Variable Types\n",
        "#TODO"
      ]
    },
    {
      "cell_type": "markdown",
      "metadata": {
        "id": "Nrn-csyLp_pN"
      },
      "source": [
        "**Type Conversion**\n",
        "\n",
        "Convert a variable from one data type to another.\n"
      ]
    },
    {
      "cell_type": "code",
      "execution_count": null,
      "metadata": {
        "id": "rExT2-ubqgWB"
      },
      "outputs": [],
      "source": [
        "#A float variable converted to an int\n",
        "\n",
        "#Implicit float data type\n",
        "variable2 = 3/4\n",
        "print(variable2)\n",
        "\n",
        "#Change the data type to an integer\n",
        "variable3 = int(variable2)\n",
        "print(variable3)"
      ]
    },
    {
      "cell_type": "markdown",
      "metadata": {
        "id": "8JWGQK4EvxQ5"
      },
      "source": [
        "When data types are converted they behave like their new data type."
      ]
    },
    {
      "cell_type": "code",
      "execution_count": null,
      "metadata": {
        "id": "CxMZOqmzteKm"
      },
      "outputs": [],
      "source": [
        "#Change a string to an integer\n",
        "str_variable = \"30\"\n",
        "int_variable = int(str_variable)\n",
        "print(\"string = \" + str_variable)\n",
        "print(\"integer = \", int_variable)"
      ]
    },
    {
      "cell_type": "code",
      "execution_count": null,
      "metadata": {
        "id": "mUu-ev2Otgy_"
      },
      "outputs": [],
      "source": [
        "sum_of_strings = str_variable + str_variable\n",
        "print(\"sum of strings = \" + sum_of_strings)"
      ]
    },
    {
      "cell_type": "code",
      "execution_count": null,
      "metadata": {
        "id": "axyx7Bs9tsYO"
      },
      "outputs": [],
      "source": [
        "sum_of_integers = int_variable + int_variable\n",
        "print(\"sum of integers = \", sum_of_integers)"
      ]
    },
    {
      "cell_type": "markdown",
      "metadata": {
        "id": "pIytfiXiyw1S"
      },
      "source": [
        "# Assignment #12\n",
        "1. Add a comment line listing your name, and the assignment number.\n",
        "2. Create two float variables\n",
        "3. Print the sum of the two floats\n",
        "4. Convert the variables to strings\n",
        "5. Print the sum of the two strings"
      ]
    },
    {
      "cell_type": "code",
      "execution_count": null,
      "metadata": {
        "id": "2NKXSJ4RysX0"
      },
      "outputs": [],
      "source": [
        "#Create floats and print the sum\n",
        "#Convert the floats to strings, sum the strings\n",
        "#TODO"
      ]
    },
    {
      "cell_type": "markdown",
      "metadata": {
        "id": "q-tqgO44gdcU"
      },
      "source": [
        "# Debugging Exercise\n",
        "\n",
        "A good way to learn Python is debug someone else's code. <br>\n",
        "The code below is full of errors. <br>\n",
        "Your assignment is to fix all the errors in the code."
      ]
    },
    {
      "cell_type": "code",
      "execution_count": 24,
      "metadata": {
        "id": "QJkQjRLJghly"
      },
      "outputs": [
        {
          "name": "stdout",
          "output_type": "stream",
          "text": [
            "number_1 + number_2 =  47\n",
            "number_1/number_2 =  22.5\n",
            "My name is George WashingtonGeorge Washington\n",
            "sum =  58\n",
            "diff =  -52\n",
            "35  == 35  is  35\n",
            "9 < 10 and  9 > 8 is  True\n",
            "string =  50\n",
            "integer =  4\n",
            "504\n"
          ]
        }
      ],
      "source": [
        "#Fix the errors in the code\n",
        "#so that it runs without errors\n",
        "\n",
        "number_1 = 45;\n",
        "number_2 = 2;\n",
        "\n",
        "print(\"number_1 + number_2 = \", number_1 + number_2)\n",
        "print(\"number_1/number_2 = \", number_1/number_2)\n",
        "\n",
        "string_2 = \"George Washington\"\n",
        "string_1 = \"My name is \" + string_2\n",
        "\n",
        "string_3 = string_1 + string_2\n",
        "print(string_3)\n",
        "\n",
        "string_4 = 3\n",
        "string_5 = 55\n",
        "\n",
        "#Add two strings together\n",
        "sum = string_4 + string_5\n",
        "print (\"sum = \", sum)\n",
        "\n",
        "#Subtract two strings\n",
        "diff = string_4 - string_5\n",
        "print(\"diff = \", diff)\n",
        "\n",
        "x = 34\n",
        "y = 35\n",
        "z =x = y\n",
        "print(x,\" ==\", y, \" is \", z)\n",
        "\n",
        "xx = 9\n",
        "yy = 4\n",
        "zz = (xx < 10) and (xx > 8)\n",
        "print(xx,  \"< 10 and \", xx, \"> 8 is \", zz)\n",
        "\n",
        "str_variable = \"50\"\n",
        "int_variable = 4\n",
        "\n",
        "print(\"string = \" , str_variable)\n",
        "print(\"integer = \", str(int_variable))\n",
        "\n",
        "print(str_variable + str(int_variable))\n"
      ]
    },
    {
      "cell_type": "markdown",
      "metadata": {
        "id": "09OPR3fXmqSF"
      },
      "source": [
        "Congrats! You finished the first Python Module.\n",
        "Keep up the good work....start the next module\n",
        "\n",
        "C2 Intro to ML Programming with Python\n",
        "<br><br>\n",
        "Instructions to access the notebooks:<br>\n",
        "In a Chrome or Firefox Window type on the search bar: **Google CoLab**<br>\n",
        "\n",
        "On the orange menu bar, select the menu item: **GITHUB**<br>\n",
        "\n",
        "If the orange pop-up menu does not appear, <br>\n",
        "\n",
        "In the Notebook environment, select File>Open notebook <br>\n",
        "\n",
        "The orange pop-up menu should now appear.<br>\n",
        "\n",
        "Select:  GITHUB<br>\n",
        "\n",
        "On the search bar type in: **cagBRT**  This will bring up my gitHub repository. <br>\n",
        "\n",
        "On the drop down menu select: cagBRT/<br>**Intro-To-Programming-with-Python**<br>\n",
        "\n",
        "Then select: **Intro to C2 Intro to Python.ipynb**<br>\n",
        "\n",
        "\n"
      ]
    },
    {
      "cell_type": "markdown",
      "metadata": {
        "id": "iyn8Jdo9ncj6"
      },
      "source": []
    }
  ],
  "metadata": {
    "colab": {
      "include_colab_link": true,
      "name": "C1 Intro to Python.ipynb",
      "private_outputs": true,
      "provenance": []
    },
    "kernelspec": {
      "display_name": "Python 3",
      "name": "python3"
    },
    "language_info": {
      "codemirror_mode": {
        "name": "ipython",
        "version": 3
      },
      "file_extension": ".py",
      "mimetype": "text/x-python",
      "name": "python",
      "nbconvert_exporter": "python",
      "pygments_lexer": "ipython3",
      "version": "3.13.0"
    }
  },
  "nbformat": 4,
  "nbformat_minor": 0
}
