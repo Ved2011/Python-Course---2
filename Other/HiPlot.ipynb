{
  "nbformat": 4,
  "nbformat_minor": 0,
  "metadata": {
    "colab": {
      "name": "HiPlot.ipynb",
      "provenance": [],
      "private_outputs": true,
      "authorship_tag": "ABX9TyPo2/g13lWwVG1AQAVKOBdQ",
      "include_colab_link": true
    },
    "kernelspec": {
      "name": "python3",
      "display_name": "Python 3"
    },
    "accelerator": "GPU"
  },
  "cells": [
    {
      "cell_type": "markdown",
      "metadata": {
        "id": "view-in-github",
        "colab_type": "text"
      },
      "source": [
        "<a href=\"https://colab.research.google.com/github/cagBRT/Intro-to-Programming-with-Python/blob/master/HiPlot.ipynb\" target=\"_parent\"><img src=\"https://colab.research.google.com/assets/colab-badge.svg\" alt=\"Open In Colab\"/></a>"
      ]
    },
    {
      "cell_type": "markdown",
      "metadata": {
        "id": "B88I65An1MP_"
      },
      "source": [
        "HiPlot is Facebook’s Python library to support visualization of high-dimensional data table. <br>\n",
        "It is particularly well known for its sophisticated interactive parallel plot."
      ]
    },
    {
      "cell_type": "markdown",
      "metadata": {
        "id": "CSqL70IaC7Qj"
      },
      "source": [
        "https://ai.facebook.com/blog/hiplot-high-dimensional-interactive-plots-made-easy#u_0_1v"
      ]
    },
    {
      "cell_type": "code",
      "metadata": {
        "id": "BHJZXNehCm_A"
      },
      "source": [
        "# Clone the entire repo.\n",
        "!git clone -l -s https://github.com/cagBRT/Intro-to-Programming-with-Python.git cloned-repo\n",
        "%cd cloned-repo\n",
        "!ls"
      ],
      "execution_count": null,
      "outputs": []
    },
    {
      "cell_type": "code",
      "metadata": {
        "id": "vvRTTAbWtVdw"
      },
      "source": [
        "!pip install -U hiplot"
      ],
      "execution_count": null,
      "outputs": []
    },
    {
      "cell_type": "code",
      "metadata": {
        "id": "JQdGu9_pt5Nu"
      },
      "source": [
        "import hiplot as hip\n",
        "import random\n",
        "import pandas as pd"
      ],
      "execution_count": null,
      "outputs": []
    },
    {
      "cell_type": "markdown",
      "metadata": {
        "id": "1TUY_eyQDcZd"
      },
      "source": [
        "**Creating Random Data**"
      ]
    },
    {
      "cell_type": "code",
      "metadata": {
        "id": "Ctk17kw-uDsB"
      },
      "source": [
        "import hiplot as hip\n",
        "data = [\n",
        "       {'dropout':0.1, \n",
        "        'learning_rate': 0.001, \n",
        "        'optimizer': 'SGD', \n",
        "        'loss': 10.0\n",
        "       },\n",
        "       {'dropout':0.15, \n",
        "        'learning_rate': 0.01, \n",
        "        'optimizer': 'Adam', \n",
        "        'loss': 3.5\n",
        "       },\n",
        "       {'dropout':0.3, \n",
        "        'learning_rate': 0.1, \n",
        "        'optimizer': 'Adam', \n",
        "        'loss': 4.5\n",
        "       }]\n",
        "hip.Experiment.from_iterable(data).display(force_full_width=True)"
      ],
      "execution_count": null,
      "outputs": []
    },
    {
      "cell_type": "code",
      "metadata": {
        "id": "IQrqlFmRuJc_"
      },
      "source": [
        "exp = hip.Experiment()\n",
        "exp.display_data(hip.Displays.XY).update({\n",
        "        'axis_x': 'generation',\n",
        "        'axis_y': 'loss',\n",
        "    })\n",
        "    \n",
        "for i in range(200):\n",
        "    dp = hip.Datapoint(\n",
        "        uid=str(i),\n",
        "        values={\n",
        "            'generation': i,\n",
        "            'param': 10 ** random.uniform(-1, 1),\n",
        "            'loss': random.uniform(-5, 5)\n",
        "        })\n",
        "    if i > 10:\n",
        "        from_parent = random.choice(exp.datapoints[-10:]) \n",
        "        # Connecting the parent to the child\n",
        "        dp.from_uid = from_parent.uid\n",
        "        dp.values['loss'] += from_parent.values['loss']\n",
        "        dp.values['param'] *= from_parent.values['param']\n",
        "    exp.datapoints.append(dp)\n",
        "exp.display()"
      ],
      "execution_count": null,
      "outputs": []
    },
    {
      "cell_type": "markdown",
      "metadata": {
        "id": "rJWDRo5dDg32"
      },
      "source": [
        "**The Iris Dataset**"
      ]
    },
    {
      "cell_type": "code",
      "metadata": {
        "id": "xocCD5iiwakU"
      },
      "source": [
        "import hiplot as hip\n",
        "iris_hiplot = hip.Experiment.from_csv('iris.csv')\n",
        "iris_hiplot.display()"
      ],
      "execution_count": null,
      "outputs": []
    },
    {
      "cell_type": "markdown",
      "metadata": {
        "id": "OWi2rce5DmlR"
      },
      "source": [
        "**The FIFA 2019 Dataset**\n"
      ]
    },
    {
      "cell_type": "code",
      "metadata": {
        "id": "XI0o2_sPxvFM"
      },
      "source": [
        "fifa = pd.read_csv('FIFA19.csv',index_col='Unnamed: 0')\n",
        "fifa.columns"
      ],
      "execution_count": null,
      "outputs": []
    },
    {
      "cell_type": "code",
      "metadata": {
        "id": "X-uWYmA1D2rO"
      },
      "source": [
        "fifa.shape"
      ],
      "execution_count": null,
      "outputs": []
    },
    {
      "cell_type": "code",
      "metadata": {
        "id": "aeH4v--o0ZhU"
      },
      "source": [
        "fifa_small = fifa[['ID', 'Name', 'Age', 'Photo', 'Nationality', 'Flag', 'Overall',\n",
        "       'Potential', 'Club', 'Club Logo', 'Value', 'Wage', 'Special',\n",
        "       'Preferred Foot', 'International Reputation', 'Weak Foot',\n",
        "       'Skill Moves', 'Work Rate', 'Body Type', 'Real Face', 'Position',\n",
        "       'Jersey Number', 'Joined', 'Loaned From', 'Contract Valid Until',\n",
        "       'Height', 'Weight', 'LS', 'ST', 'RS', 'LW', 'LF', 'CF', 'RF', 'RW',\n",
        "       'LAM', 'CAM', 'RAM', 'LM', 'LCM', 'CM', 'RCM', 'RM', 'LWB', 'LDM',\n",
        "       'CDM', 'RDM', 'RWB', 'LB', 'LCB', 'CB', 'RCB', 'RB', 'Crossing',\n",
        "       'Finishing', 'HeadingAccuracy']]\n",
        "fifa_hiplot = hip.Experiment.from_dataframe(fifa_small)\n",
        "fifa_hiplot.display()"
      ],
      "execution_count": null,
      "outputs": []
    },
    {
      "cell_type": "code",
      "metadata": {
        "id": "Cz27PTlR0ETV"
      },
      "source": [
        "fifa = pd.read_csv('FIFA19.csv',index_col='Unnamed: 0')\n",
        "fifa_small = fifa[['Age','Nationality','Value','Height', 'Weight', 'Crossing', 'Finishing', 'HeadingAccuracy', 'ShortPassing', 'Volleys', 'Dribbling', 'Curve', 'FKAccuracy', 'LongPassing', 'BallControl', 'Acceleration']]\n",
        "fifa_hiplot = hip.Experiment.from_dataframe(fifa_small)\n",
        "fifa_hiplot.display()"
      ],
      "execution_count": null,
      "outputs": []
    },
    {
      "cell_type": "code",
      "metadata": {
        "id": "zYDBlZ12Etjo"
      },
      "source": [
        "hitters_hiplot = hip.Experiment.from_csv('Hitters.csv')\n",
        "hitters_hiplot.display()"
      ],
      "execution_count": null,
      "outputs": []
    }
  ]
}