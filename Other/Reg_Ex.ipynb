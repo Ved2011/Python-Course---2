{
  "nbformat": 4,
  "nbformat_minor": 0,
  "metadata": {
    "colab": {
      "name": "Reg Ex.ipynb",
      "provenance": [],
      "private_outputs": true,
      "authorship_tag": "ABX9TyM2X6OyrdgXV7CPlZL05deQ",
      "include_colab_link": true
    },
    "kernelspec": {
      "name": "python3",
      "display_name": "Python 3"
    }
  },
  "cells": [
    {
      "cell_type": "markdown",
      "metadata": {
        "id": "view-in-github",
        "colab_type": "text"
      },
      "source": [
        "<a href=\"https://colab.research.google.com/github/cagBRT/Intro-to-Programming-with-Python/blob/master/Reg_Ex.ipynb\" target=\"_parent\"><img src=\"https://colab.research.google.com/assets/colab-badge.svg\" alt=\"Open In Colab\"/></a>"
      ]
    },
    {
      "cell_type": "markdown",
      "metadata": {
        "id": "y8YdYMby5fpy"
      },
      "source": [
        "# **Regular Expressions**\n",
        "https://www.w3schools.com/python/python_regex.asp<br>\n",
        "https://www.rexegg.com/regex-quickstart.html<br>\n",
        "https://chrisalbon.com/python/data_wrangling/regex_by_example/\n"
      ]
    },
    {
      "cell_type": "code",
      "metadata": {
        "id": "S0Qd5RaVvTXG"
      },
      "source": [
        "import re"
      ],
      "execution_count": null,
      "outputs": []
    },
    {
      "cell_type": "markdown",
      "metadata": {
        "id": "6hSwKaZBrrvt"
      },
      "source": [
        "[abc] will match any of the characters a, b, or c; this is the same as [a-c], which uses a range to express the same set of characters. If you wanted to match only lowercase letters, your RE would be [a-z]."
      ]
    },
    {
      "cell_type": "code",
      "metadata": {
        "id": "IY_RdfZLvXZ3"
      },
      "source": [
        "txt = \"Mairzy doats and dozy doats and liddle lamzy divey\"\\\n",
        "\"A kiddley divey too, wouldn't you?\""
      ],
      "execution_count": null,
      "outputs": []
    },
    {
      "cell_type": "code",
      "metadata": {
        "id": "_eoU9I6wrq-Y"
      },
      "source": [
        "result = re.search(\"[abc]\", txt)\n",
        "print(result)"
      ],
      "execution_count": null,
      "outputs": []
    },
    {
      "cell_type": "code",
      "metadata": {
        "id": "Yav9KcT9tw4Z"
      },
      "source": [
        "result = re.search(\"[t-z]\", txt)\n",
        "print(result)"
      ],
      "execution_count": null,
      "outputs": []
    },
    {
      "cell_type": "markdown",
      "metadata": {
        "id": "J1VzUz3I07aK"
      },
      "source": [
        "# **Assignment**<br>\n",
        "Find can, man, fan<br>\n",
        "Do not find dan, ran, pan"
      ]
    },
    {
      "cell_type": "code",
      "metadata": {
        "id": "0q52Vla_1Kc3"
      },
      "source": [
        "txt = \"can, man, fan, dan, ran, pan\""
      ],
      "execution_count": null,
      "outputs": []
    },
    {
      "cell_type": "code",
      "metadata": {
        "id": "OyLL5Oy31QKb",
        "cellView": "form"
      },
      "source": [
        "#@title\n",
        "result = re.findall('[cmf]an', txt)\n",
        "for i in range(len(result)):\n",
        "  print(result[i])"
      ],
      "execution_count": null,
      "outputs": []
    },
    {
      "cell_type": "markdown",
      "metadata": {
        "id": "RdZgpSSbwRfw"
      },
      "source": [
        "**Search a string for a pattern**<br>\n",
        "re.search(\"the pattern\", the string)"
      ]
    },
    {
      "cell_type": "code",
      "metadata": {
        "id": "mPTuHwJq5vVC"
      },
      "source": [
        "print(len(txt))"
      ],
      "execution_count": null,
      "outputs": []
    },
    {
      "cell_type": "code",
      "metadata": {
        "id": "tQH48EaMyQTQ"
      },
      "source": [
        "x = re.search(\"lamzy\", txt)\n",
        "print(\"x = \", x)"
      ],
      "execution_count": null,
      "outputs": []
    },
    {
      "cell_type": "markdown",
      "metadata": {
        "id": "6oKjlW0Fyrug"
      },
      "source": [
        "# **Assignment 1** \n",
        "Use re.search to see if the following words are in the txt:<br>\n",
        ">you<br>\n",
        "doats<br>\n",
        "bird<br>\n",
        "divey<br>\n"
      ]
    },
    {
      "cell_type": "code",
      "metadata": {
        "id": "PAuSkmmeys_H"
      },
      "source": [
        ""
      ],
      "execution_count": null,
      "outputs": []
    },
    {
      "cell_type": "markdown",
      "metadata": {
        "id": "7XGZF58yzTG6"
      },
      "source": [
        "# **Partial Pattern Matches**"
      ]
    },
    {
      "cell_type": "markdown",
      "metadata": {
        "id": "XXm1v3mw6t0K"
      },
      "source": [
        "**Text at the beginning and end of a string**"
      ]
    },
    {
      "cell_type": "code",
      "metadata": {
        "id": "FRXmgM2C3fE1"
      },
      "source": [
        "#determine if the string begins with the pattern \"Mairzy\"\n",
        "x = re.search(\"^Mairzy\", txt)\n",
        "print(\"x = \", x)"
      ],
      "execution_count": null,
      "outputs": []
    },
    {
      "cell_type": "markdown",
      "metadata": {
        "id": "vdwoPZEA48uD"
      },
      "source": [
        "**Discussion**\n",
        "The search returns None. We know txt ends in \"you?\". <br>\n",
        "What is wrong with our code?"
      ]
    },
    {
      "cell_type": "code",
      "metadata": {
        "id": "fN7Ad0nD5MoL"
      },
      "source": [
        "#determine if the string ends with the pattern \"you?\"\n",
        "x = re.search(\"you?$\", txt)\n",
        "print(\"x = \", x)"
      ],
      "execution_count": null,
      "outputs": []
    },
    {
      "cell_type": "markdown",
      "metadata": {
        "id": "5YEIghdZMV_B"
      },
      "source": [
        "**Special Characters**"
      ]
    },
    {
      "cell_type": "markdown",
      "metadata": {
        "id": "qQfC-S-sMajN"
      },
      "source": [
        "If we want to do more than simply search for literal pieces of text, we need to reserve certain characters for special use. \n",
        "<br>There are 12 characters with special meanings: <br>\n",
        ">the backslash \\--> Use special characters as text <br>\n",
        "the caret ^ --> Search for beginning of text <br>\n",
        "the dollar sign $ --> \tEnd of string or end of line<br>\n",
        "the period or dot . --> Any character except line break<br>\n",
        "the vertical bar or pipe symbol | --> Or function<br>\n",
        "the question mark ?, <br>\n",
        "the asterisk or star * --> Zero or more times <br>\n",
        "the plus sign +, <br>\n",
        "the opening parenthesis (, <br>\n",
        "the closing parenthesis ), <br>\n",
        "the opening square bracket [, <br>\n",
        "the opening curly brace {, <br>\n",
        "\n",
        "These special characters are often called “metacharacters”. <br>\n",
        "*Most of them are errors when used alone.*"
      ]
    },
    {
      "cell_type": "markdown",
      "metadata": {
        "id": "zvjkAiEcOtQi"
      },
      "source": [
        "# **Assignment 2**<br>\n",
        "Search for \"you?\" in txt"
      ]
    },
    {
      "cell_type": "code",
      "metadata": {
        "id": "aMhKs-QSOweI"
      },
      "source": [
        "#Assignment 2\n",
        "txt = \"Mairzy doats and dozy doats and liddle lamzy divey\"\\\n",
        "\"A kiddley divey too, wouldn't you?\"\n"
      ],
      "execution_count": null,
      "outputs": []
    },
    {
      "cell_type": "markdown",
      "metadata": {
        "id": "d_ksn3Hyar8G"
      },
      "source": [
        "# **Assignment 3**\n",
        "Determine if there is a question mark in the text"
      ]
    },
    {
      "cell_type": "code",
      "metadata": {
        "id": "oa-v4CXcVqFc"
      },
      "source": [
        "#Assignment 3\n",
        "#Determine if there is a question in this text\n",
        "txt = \"This is a sentence. Is this a sentence? Or is this a sentence?\"\\\n",
        "\"You are looking for questions? Did you ask the Lorax?\"\n"
      ],
      "execution_count": null,
      "outputs": []
    },
    {
      "cell_type": "markdown",
      "metadata": {
        "id": "K98hPAnINskA"
      },
      "source": [
        "**Search for two words that may be anywhere in the text, regardless of what words are between them.**"
      ]
    },
    {
      "cell_type": "code",
      "metadata": {
        "id": "iNLPgzZUzI1L"
      },
      "source": [
        "txt = \"Mairzy doats and dozy doats and liddle lamzy divey\"\\\n",
        "\"A kiddley divey too, wouldn't you?\"\n",
        "#. == Any character except line break\n",
        "#* == Zero or more times\n",
        "x = re.search(\"kiddley.*too\", txt)\n",
        "print(\"x = \", x)"
      ],
      "execution_count": null,
      "outputs": []
    },
    {
      "cell_type": "markdown",
      "metadata": {
        "id": "7fVgRq1BifxI"
      },
      "source": [
        "**Search for two words anywhere in the text, regardless of the what words are between them. Also, the words can be in either order**."
      ]
    },
    {
      "cell_type": "code",
      "metadata": {
        "id": "wIbLAUyOivd3"
      },
      "source": [
        "#Notice the order is changed on the two words. \n",
        "#They are still found\n",
        "#Using the metacharacter '|' -- or or pipeline\n",
        "txt = \"Mairzy doats and dozy doats and liddle lamzy divey\"\\\n",
        "\"A too divey kiddley, wouldn't you?\"\n",
        "\n",
        "x = re.search(\"kiddley.*too|too.*kiddley\", txt)\n",
        "print(\"x = \", x)"
      ],
      "execution_count": null,
      "outputs": []
    },
    {
      "cell_type": "markdown",
      "metadata": {
        "id": "dI8J750bjSc1"
      },
      "source": [
        "# **Assignment 4**\n",
        "Find out if transX and clutch are used in the text. Order is not important."
      ]
    },
    {
      "cell_type": "code",
      "metadata": {
        "id": "e6XP-czXjh1x"
      },
      "source": [
        "#Assignment 4\n",
        "txt = \"Vehicle came in on 3/3/2020. Making noise when gears are changed.\"\\\n",
        "\"The clutch appears to be burned out and transX may need a rebuild.\"\\\n",
        "\"Owner says problem started when vehicle got stuck in the mud.\"\\\n",
        "\"TransX shows signs of tampering, which may negate warranty.\"\\\n",
        "\"TransX missing torque converter, gears 1-3 stripped.\""
      ],
      "execution_count": null,
      "outputs": []
    },
    {
      "cell_type": "markdown",
      "metadata": {
        "id": "B5u9pVsCZRrC"
      },
      "source": [
        "Sometimes the match looks wrong<br>\n",
        "The match is found but the output is not the full text. <br>\n",
        "So beware the output"
      ]
    },
    {
      "cell_type": "code",
      "metadata": {
        "id": "OXO_4t8yZQfC"
      },
      "source": [
        "txt = \"Mairzy doats and dozy doats and liddle lamzy divey\"\\\n",
        "\"A kiddley divey too, wouldn't you?\"\n",
        "#. == Any character except line break\n",
        "#* == Zero or more times\n",
        "x = re.search(\"Mairzy.*too\", txt)\n",
        "print(\"x = \", x)"
      ],
      "execution_count": null,
      "outputs": []
    },
    {
      "cell_type": "markdown",
      "metadata": {
        "id": "I1TOgho79K8c"
      },
      "source": [
        "# **RegEx Functions**"
      ]
    },
    {
      "cell_type": "markdown",
      "metadata": {
        "id": "0qD7eczB9kjY"
      },
      "source": [
        "The **findall()** function returns a list containing all matches."
      ]
    },
    {
      "cell_type": "code",
      "metadata": {
        "id": "RzxTVQ3Q9mb1"
      },
      "source": [
        "txt = \"Mairzy doats and dozy doats and liddle lamzy divey\"\\\n",
        "\"A kiddley divey too, wouldn't you?\"\n",
        "x = re.findall(\"and\", txt)\n",
        "print(x)\n",
        "#Print the index of the start of the first occurance of the pattern\n",
        "print(\"The index for the first and: \", txt.index(\"and\"))"
      ],
      "execution_count": null,
      "outputs": []
    },
    {
      "cell_type": "markdown",
      "metadata": {
        "id": "AalbSSDHbaRx"
      },
      "source": [
        "**Finding all instances of a pattern**<br>\n",
        "Notice that it finds all the question marks, but it doesn't tell you where they are. <br>\n",
        "It returns a list. "
      ]
    },
    {
      "cell_type": "code",
      "metadata": {
        "id": "pj8RExwwcCAR"
      },
      "source": [
        "#Find all the question marks\n",
        "txt = \"This is a sentence. Is this a sentence? Or is this a sentence?\"\\\n",
        "\"You are looking for questions? Did you ask the Lorax?\"\n",
        "x = re.findall('\\?',  txt)\n",
        "print(x)\n",
        "print(x.count('?'))"
      ],
      "execution_count": null,
      "outputs": []
    },
    {
      "cell_type": "code",
      "metadata": {
        "id": "4IKQMCy3ciQf"
      },
      "source": [
        "print(type(x))"
      ],
      "execution_count": null,
      "outputs": []
    },
    {
      "cell_type": "markdown",
      "metadata": {
        "id": "rzgtY3u0erlt"
      },
      "source": [
        "**Find and change words using Regex**<br>\n",
        "Use:\n",
        ">text.replace('search text','new text')"
      ]
    },
    {
      "cell_type": "code",
      "metadata": {
        "id": "3IK03mTafnQu"
      },
      "source": [
        "txt = \"Mairzy doats and dozy doats and liddle lamzy divey \"\\\n",
        "\"A kiddley divey too, wouldn't you?\"\n",
        "txt.replace(\"Mairzy doats\", \"Mares eat oats\")"
      ],
      "execution_count": null,
      "outputs": []
    },
    {
      "cell_type": "code",
      "metadata": {
        "id": "ZXnVgJJzq31y"
      },
      "source": [
        "txt = \"Transmission broken \\n\"\\\n",
        "\"transmision brkn \\n\"\\\n",
        "\"tans brk\"\n",
        "#('[aeiou]', text)\n",
        "x = txt.replace(\"broken\",\"brk\").replace(\"brkn\", \"brk\")\n",
        "print(x)"
      ],
      "execution_count": null,
      "outputs": []
    },
    {
      "cell_type": "markdown",
      "metadata": {
        "id": "VRhxOSRhRuyQ"
      },
      "source": [
        "# **Assignment 5**<br>\n",
        "Find all the instances of \"transX\" in the text and change it to \"transmission\"<br>\n",
        "Convert \"TransX\" to \"Transmission\"\n"
      ]
    },
    {
      "cell_type": "code",
      "metadata": {
        "id": "KZvCXtqySHBK"
      },
      "source": [
        "txt = \"Vehicle came in on 3/3/2020. Making noise when gears are changed.\"\\\n",
        "\"The clutch appears to be burned out and transX may need rebuild.\"\\\n",
        "\"Owner says problem started when vehicle got stuck in the mud.\"\\\n",
        "\"TransX shows signs of tampering, which may negate warranty.\"\\\n",
        "\"TransX missing torque converter, gears 1-3 stripped.\"\n"
      ],
      "execution_count": null,
      "outputs": []
    },
    {
      "cell_type": "markdown",
      "metadata": {
        "id": "KHJTksHLkvA9"
      },
      "source": [
        "**Find numbers**"
      ]
    },
    {
      "cell_type": "code",
      "metadata": {
        "id": "IyxRZ9OK9_8v"
      },
      "source": [
        "txt = \"Vehicle came in on 3/3/2020. Making noise when gears are changed.\"\\\n",
        "\"The clutch appears to be burned out and transX may need rebuild.\"\\\n",
        "\"Owner says problem started when vehicle got stuck in the mud.\"\\\n",
        "\"TransX shows signs of tampering, which may negate warranty.\"\\\n",
        "\"TransX missing torque converter, gears 1-3 stripped.\"\n",
        "#\\d will find any digit in the text\n",
        "x= re.findall(\"\\d\", txt)\n",
        "print(x)\n",
        "x= re.findall(\"2020\", txt)\n",
        "print(x)"
      ],
      "execution_count": null,
      "outputs": []
    },
    {
      "cell_type": "markdown",
      "metadata": {
        "id": "2hCinPk2lB7b"
      },
      "source": [
        "**Find specific quantity of numbers**"
      ]
    },
    {
      "cell_type": "code",
      "metadata": {
        "id": "J8czGCSClKhD"
      },
      "source": [
        "txt = \"Vehicle came in on 3/3/2020. Making noise when gears are changed.\"\\\n",
        "\"The clutch appears to be burned out and transX may need rebuild.\"\\\n",
        "\"Owner says problem started when vehicle got stuck in the mud.\"\\\n",
        "\"TransX shows signs of tampering, which may negate warranty.\"\\\n",
        "\"TransX missing torque converter, gears 1-3 stripped.\"\n",
        "x= re.search(\"\\d{4}\", txt)\n",
        "print(x)"
      ],
      "execution_count": null,
      "outputs": []
    },
    {
      "cell_type": "markdown",
      "metadata": {
        "id": "jhYDYNgslW6_"
      },
      "source": [
        "# **Assignment 6** \n",
        "Find all the patterns in the text that have 6 digits."
      ]
    },
    {
      "cell_type": "code",
      "metadata": {
        "id": "euQurNeRlYzd"
      },
      "source": [
        "#Assginment 6\n",
        "txt = \"12, 234, 245324, 456, 23412, part no. 87695, 543, 7853, 43/654, 7654, 409877\""
      ],
      "execution_count": null,
      "outputs": []
    },
    {
      "cell_type": "markdown",
      "metadata": {
        "id": "qN8O40WEoiHX"
      },
      "source": [
        "**Lazy Quantifiers**"
      ]
    },
    {
      "cell_type": "code",
      "metadata": {
        "id": "m3lqHQlBoiRc"
      },
      "source": [
        "#Find any digit pattern- regardless of pattern\n",
        "txt = \"12, 234, 245324, 456, 23412, 87695, 543, 7853, 43/654, 7654, 409877\"\n",
        "x = re.findall(\"\\d+\", txt)\n",
        "print(x)"
      ],
      "execution_count": null,
      "outputs": []
    },
    {
      "cell_type": "code",
      "metadata": {
        "id": "0SekCU4vpRsJ"
      },
      "source": [
        "#Find and replace\n",
        "txt = \"12, 234, 245324, 456, 23412, 87695, 543, 7853, 43/654, 7654, 409877\"\n",
        "x = txt.replace(\" 24\", \"00-24\")\n",
        "print(x)"
      ],
      "execution_count": null,
      "outputs": []
    },
    {
      "cell_type": "markdown",
      "metadata": {
        "id": "KombxC3bl-fR"
      },
      "source": [
        "# **Assignment 7**<br>\n",
        "The following text was found in a text file. <br>\n",
        "The text was entered by various people on the floor who were working double shifts, so they were tired when they typed in the following information. <br>\n",
        "The part numbers should just be a list of digits, there should be no special characters in them. <br>\n",
        "1. Clean up the part numbers.<br>\n",
        "2. Each description should begin with the part number, followed by the issue. <br>\n",
        "\n",
        "For example: <br>\n",
        ">\"Part no. #44-5 is broken\" becomes \"445 is broken\""
      ]
    },
    {
      "cell_type": "code",
      "metadata": {
        "id": "1j5_j5L6l-oP"
      },
      "source": [
        "#Assignment 7\n",
        "txt = \"Part no. 66-84 + 34\\2 are both broken\"\\\n",
        "\"Part #33443.54 is missing\"\\\n",
        "\"Part #332%5 is installed incorrectly\"\\\n",
        "\"Pt. No. 12-!1.5 needs a rebuild\"\\\n",
        "\"#(9 is missing a washer\"\n"
      ],
      "execution_count": null,
      "outputs": []
    },
    {
      "cell_type": "markdown",
      "metadata": {
        "id": "xfNSTod3n65m"
      },
      "source": [
        "**Partial Patterns**<br>\n",
        "To find any paritial word use the '..' pattern\n"
      ]
    },
    {
      "cell_type": "code",
      "metadata": {
        "id": "WcbaNB7fn7JV"
      },
      "source": [
        "txt = \"As a loyal JD customer, I am unhappy with the service I received last week.\"\\\n",
        "\"I ordered part number 3456 and was told it would arrive on Jan 1,2020. It did not \"\\\n",
        "\"arrive on time. It was 2 days late!\"\\\n",
        "\"I was not given any warning that the part would be late and I drove all the way\"\\\n",
        "\"to the dealer to get the part\"\\\n",
        "\"When I returned two days later I was handed part no. 4365!!! The totally wrong part\"\\\n",
        "\"My crops are in the field rotting and I am wasting time driving back and forth to the \"\\\n",
        "\"Fresno dealer\"\n",
        "\n",
        "x = re.findall(\" \\d{4}\", txt)\n",
        "print(x)\n",
        "x = re.findall(\"F.*no\", txt)\n",
        "print(x)"
      ],
      "execution_count": null,
      "outputs": []
    },
    {
      "cell_type": "code",
      "metadata": {
        "id": "Rfy92amZbB3o"
      },
      "source": [
        "print(txt)"
      ],
      "execution_count": null,
      "outputs": []
    },
    {
      "cell_type": "code",
      "metadata": {
        "id": "9nlU3RZuaYwT"
      },
      "source": [
        "result = re.finditer('..r', txt)\n",
        "print(result)"
      ],
      "execution_count": null,
      "outputs": []
    },
    {
      "cell_type": "markdown",
      "metadata": {
        "id": "m7HR7I-7HX5q"
      },
      "source": [
        "Quantifiers can be used with any character or special metacharacters, for example a+ (one or more a's), [abc]+ (one or more of any a, b, or c character) and .* (zero or more of any character)."
      ]
    },
    {
      "cell_type": "code",
      "metadata": {
        "id": "OL0SSXz_qiac"
      },
      "source": [
        "#Find any alpha numeric 'words'\n",
        "txt = \"parts 23,24,26 are missing\"\n",
        "re.findall('[\\w]+', txt)"
      ],
      "execution_count": null,
      "outputs": []
    },
    {
      "cell_type": "code",
      "metadata": {
        "id": "uEHKCypjHexX"
      },
      "source": [
        "#Find specific patterns\n",
        "#Find all numbers that match \n",
        "#1 or more 2s followed by 1 or more 4s\n",
        "txt = \"parts 223,244,266, 24344, 2344, 3224 are missing\"\n",
        "re.findall('2+4+', txt)"
      ],
      "execution_count": null,
      "outputs": []
    },
    {
      "cell_type": "code",
      "metadata": {
        "id": "CKJgKK88IJZA"
      },
      "source": [
        "txt = \"File Found! File Found! File Found File Found!\""
      ],
      "execution_count": null,
      "outputs": []
    },
    {
      "cell_type": "code",
      "metadata": {
        "id": "8ZFK_zmSHQe9"
      },
      "source": [
        "re.findall('\\!',txt)"
      ],
      "execution_count": null,
      "outputs": []
    },
    {
      "cell_type": "markdown",
      "metadata": {
        "id": "LNkqaFjEGJnv"
      },
      "source": [
        "# **Assignment** \n",
        "Find all the patterns that match the following criteria:\n",
        "1. at least 2 'a'\n",
        "2. at least 1 'c'\n",
        "3. 0 or more 'b'"
      ]
    },
    {
      "cell_type": "code",
      "metadata": {
        "id": "kLUA-tJ9GnuW"
      },
      "source": [
        "txt = 'aaaabcc, abc, aabbbbc, aacc, a, abcc, abbb'"
      ],
      "execution_count": null,
      "outputs": []
    },
    {
      "cell_type": "code",
      "metadata": {
        "id": "Borb1xTlGzWt",
        "cellView": "form"
      },
      "source": [
        "#@title \n",
        "#Method 1:\n",
        "result = re.findall(\"aa+b*c+\", txt)\n",
        "for i in range(len(result)):\n",
        "  print(result[i])"
      ],
      "execution_count": null,
      "outputs": []
    },
    {
      "cell_type": "markdown",
      "metadata": {
        "id": "3wd4GcUwugzE"
      },
      "source": [
        "**Groups**<br>\n",
        "Use parentheses to define groups"
      ]
    },
    {
      "cell_type": "code",
      "metadata": {
        "id": "r-D3_ktXtppm"
      },
      "source": [
        "#search for specific formats\n",
        "txt = \"2020-10-11 2018-2-1 2019-9-10\"\n",
        "x = re.search('\\d{4}', txt)\n",
        "print(x)\n",
        "x = re.search('(\\d{4})-(\\d{2})-(\\d{2})', txt)\n",
        "x.groups()\n",
        "print(x.group(1))\n",
        "print(x.group(2))\n",
        "print(x.group(3))"
      ],
      "execution_count": null,
      "outputs": []
    },
    {
      "cell_type": "markdown",
      "metadata": {
        "id": "wefsV2iHjLpD"
      },
      "source": [
        "# **Compile**"
      ]
    },
    {
      "cell_type": "code",
      "metadata": {
        "id": "fuYFPimblUzO"
      },
      "source": [
        "txt = \"This this trees thrice treats threats trusts\""
      ],
      "execution_count": null,
      "outputs": []
    },
    {
      "cell_type": "code",
      "metadata": {
        "id": "iNxTVhYTeUDg"
      },
      "source": [
        "p = re.compile('t..s')"
      ],
      "execution_count": null,
      "outputs": []
    },
    {
      "cell_type": "code",
      "metadata": {
        "id": "9KBrMjS1jSlM"
      },
      "source": [
        "result = p.findall(txt)\n",
        "print(result)"
      ],
      "execution_count": null,
      "outputs": []
    },
    {
      "cell_type": "code",
      "metadata": {
        "id": "mBIwVAl4nRsP"
      },
      "source": [
        "m = re.search(\"This\", txt)\n",
        "print(m.span())\n",
        "print(m.start())\n",
        "print(m.end())"
      ],
      "execution_count": null,
      "outputs": []
    },
    {
      "cell_type": "code",
      "metadata": {
        "id": "XZJOt43heY_3"
      },
      "source": [
        "p = re.compile('ab*', re.IGNORECASE)"
      ],
      "execution_count": null,
      "outputs": []
    },
    {
      "cell_type": "code",
      "metadata": {
        "id": "u-vifyYhi8B8"
      },
      "source": [
        "pattern=re.compile('TP')\n",
        "result=pattern.findall('TP Tutorialspoint TP')\n",
        "print (result)"
      ],
      "execution_count": null,
      "outputs": []
    },
    {
      "cell_type": "code",
      "metadata": {
        "id": "tww8E6EesUOK"
      },
      "source": [
        "p = re.compile(\"[A-Z0-9a-z]\")\n",
        "for m in p.finditer(txt):\n",
        "    print (m.start(), m.group())\n"
      ],
      "execution_count": null,
      "outputs": []
    },
    {
      "cell_type": "markdown",
      "metadata": {
        "id": "mZd7mZ3VsdJB"
      },
      "source": [
        "Match any whitespace"
      ]
    },
    {
      "cell_type": "code",
      "metadata": {
        "id": "SMFvxns_1jVO"
      },
      "source": [
        "txt = \" 5 4 n 3 STOP start 3.65 carpet\"\n",
        "re.findall('\\s',txt)"
      ],
      "execution_count": null,
      "outputs": []
    },
    {
      "cell_type": "markdown",
      "metadata": {
        "id": "PLhnOszoWYK2"
      },
      "source": [
        "# **Reg Ex Tester**\n",
        "\n",
        "https://www.regextester.com/15\n",
        "<br>\n"
      ]
    },
    {
      "cell_type": "code",
      "metadata": {
        "id": "AN4kDL5pWXuz"
      },
      "source": [
        ""
      ],
      "execution_count": null,
      "outputs": []
    }
  ]
}