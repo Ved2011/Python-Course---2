{
  "nbformat": 4,
  "nbformat_minor": 0,
  "metadata": {
    "colab": {
      "name": "HackerRank1.ipynb",
      "private_outputs": true,
      "provenance": [],
      "authorship_tag": "ABX9TyO3K0XJFArCsz45sQkjY6a1",
      "include_colab_link": true
    },
    "kernelspec": {
      "name": "python3",
      "display_name": "Python 3"
    }
  },
  "cells": [
    {
      "cell_type": "markdown",
      "metadata": {
        "id": "view-in-github",
        "colab_type": "text"
      },
      "source": [
        "<a href=\"https://colab.research.google.com/github/cagBRT/Intro-to-Programming-with-Python/blob/master/HackerRank1.ipynb\" target=\"_parent\"><img src=\"https://colab.research.google.com/assets/colab-badge.svg\" alt=\"Open In Colab\"/></a>"
      ]
    },
    {
      "cell_type": "markdown",
      "metadata": {
        "id": "iaoEqAkHFB0_"
      },
      "source": [
        "**Example 1**"
      ]
    },
    {
      "cell_type": "code",
      "metadata": {
        "id": "11V_SzGxb2iQ",
        "cellView": "form"
      },
      "source": [
        "#@title \n",
        "#!/bin/python3\n",
        "import math\n",
        "import os\n",
        "import random\n",
        "import re\n",
        "import sys\n",
        "from random import randrange"
      ],
      "execution_count": null,
      "outputs": []
    },
    {
      "cell_type": "code",
      "metadata": {
        "id": "kcxlu1iRD3Iu",
        "cellView": "form"
      },
      "source": [
        "#@title\n",
        "n = randrange(10)"
      ],
      "execution_count": null,
      "outputs": []
    },
    {
      "cell_type": "code",
      "metadata": {
        "id": "_X6mO-JhbzN9"
      },
      "source": [
        "#\n",
        "# Complete the 'test' function below.\n",
        "#\n",
        "# The function accepts an integer n as parameter.\n",
        "# The function adds 20 to n and prints the sum\n",
        "\n",
        "def test(n):\n",
        "  # Write your code here\n",
        "\n",
        "\n"
      ],
      "execution_count": null,
      "outputs": []
    },
    {
      "cell_type": "code",
      "metadata": {
        "id": "PEghRuJqIzZj",
        "cellView": "form"
      },
      "source": [
        "#@title \n",
        "n = randrange(100)\n",
        "ans = test(n)\n",
        "correct_ans = n + 20\n",
        "if ans == correct_ans:\n",
        "  print(\"you got it right\")\n",
        "else:\n",
        "  print(\"try again\")"
      ],
      "execution_count": null,
      "outputs": []
    },
    {
      "cell_type": "markdown",
      "metadata": {
        "id": "lYnx0jZrFEP3"
      },
      "source": [
        "**Example 2**"
      ]
    },
    {
      "cell_type": "code",
      "metadata": {
        "id": "l8tA5VcGHg3T",
        "cellView": "form"
      },
      "source": [
        "#@title\n",
        "n = randrange(10)\n",
        "m = randrange(200)"
      ],
      "execution_count": null,
      "outputs": []
    },
    {
      "cell_type": "code",
      "metadata": {
        "id": "7aNaVxTsFGAN"
      },
      "source": [
        "#\n",
        "# Complete the 'test' function below.\n",
        "#\n",
        "# The function accepts two INTEGERs n and m as parameters.\n",
        "# The function adds the two and returns the value to the main program\n",
        "\n",
        "def test(n,m):\n",
        "  # Write your code here\n",
        "\n"
      ],
      "execution_count": null,
      "outputs": []
    },
    {
      "cell_type": "code",
      "metadata": {
        "id": "ESdUJT_7FTgN",
        "cellView": "form"
      },
      "source": [
        "#@title \n",
        "n = randrange(10)\n",
        "m = randrange(200)\n",
        "output = test(n,m)\n",
        "if output == n + m:\n",
        "  print(\"CORRECT\")\n",
        "else:\n",
        "  print(\"TRY AGAIN\")"
      ],
      "execution_count": null,
      "outputs": []
    },
    {
      "cell_type": "markdown",
      "metadata": {
        "id": "WTgIUbM3HpG1"
      },
      "source": [
        "**Example 3**"
      ]
    },
    {
      "cell_type": "code",
      "metadata": {
        "id": "-iOMxfZ2Hsa9",
        "cellView": "form"
      },
      "source": [
        "#@title\n",
        "n = [2,3,4,5,6,10]"
      ],
      "execution_count": null,
      "outputs": []
    },
    {
      "cell_type": "code",
      "metadata": {
        "id": "S4b7pZN2JNxu"
      },
      "source": [
        "#\n",
        "# Complete the 'test' function below.\n",
        "#\n",
        "# The function accepts LIST n as parameter.\n",
        "# The function adds 5 to each value in the list\n",
        "#Then returns the list\n",
        "\n",
        "def test(n):\n",
        "  # Write your code here\n",
        "  "
      ],
      "execution_count": null,
      "outputs": []
    },
    {
      "cell_type": "code",
      "metadata": {
        "id": "rLJUXP7-Hs5B",
        "cellView": "form"
      },
      "source": [
        "#@title \n",
        "n = [2,3,4,30,45,56,66,90,10201]\n",
        "for i in range(len(n)):\n",
        "  n[i] = n[i] + 5\n",
        "if n == test(n):\n",
        "  print(\"CORRECT\")"
      ],
      "execution_count": null,
      "outputs": []
    },
    {
      "cell_type": "markdown",
      "metadata": {
        "id": "ULVeEYPAKFTS"
      },
      "source": [
        "**Example 4**"
      ]
    },
    {
      "cell_type": "code",
      "metadata": {
        "id": "CghS9OdPKIhr",
        "cellView": "form"
      },
      "source": [
        "#@title \n",
        "n = [\"\",\"\",\"\",\"\",\"\",\"\"]\n",
        "\n",
        "n[0] = \"Man\"\n",
        "n[1] = \"man\"\n",
        "n[2] = \"man\"\n",
        "n[3] = \"woMan\"\n",
        "n[4] = \"WoMan\"\n",
        "n[5] = \"WOMAn\""
      ],
      "execution_count": null,
      "outputs": []
    },
    {
      "cell_type": "code",
      "metadata": {
        "id": "Hx5SpIemLIzn"
      },
      "source": [
        "#\n",
        "# Complete the 'test' function below.\n",
        "#\n",
        "# The function accepts a LIST n as parameter.\n",
        "# Count the number of times the word woman appears in the list \n",
        "#**Note: the word woman can be in uppercase, or lowercase, or a mix of cases \n",
        "#Then return the count \n",
        "\n",
        "def test(n):\n"
      ],
      "execution_count": null,
      "outputs": []
    },
    {
      "cell_type": "code",
      "metadata": {
        "id": "wraPC8KVMXnX",
        "cellView": "form"
      },
      "source": [
        "#@title \n",
        "countW = 0\n",
        "n = [\"\",\"\",\"\",\"\",\"\",\"\",\"\",\"\",\"\"]\n",
        "n[0] = \"woman\"\n",
        "n[1] = \"man\"\n",
        "n[2] = \"man\"\n",
        "n[3] = \"woMan\"\n",
        "n[4] = \"WoMan\"\n",
        "n[5] = \"WOMAn\"\n",
        "n[6] = \"WOMAN\"\n",
        "n[7] = \"WoMann\"\n",
        "n[8] = \"WoMAN\"\n",
        "\n",
        "count_woman = test(n)\n",
        "\n",
        "for i in range(len(n)):\n",
        "  if n[i].lower() == \"woman\":\n",
        "    countW = countW + 1\n",
        "\n",
        "if countW == count_woman:\n",
        "  print(\"CORRECT\")\n",
        "else:\n",
        "  print(\"TRY AGAIN\")"
      ],
      "execution_count": null,
      "outputs": []
    },
    {
      "cell_type": "markdown",
      "metadata": {
        "id": "p5fnXfjBOTus"
      },
      "source": [
        "**Example 5**"
      ]
    },
    {
      "cell_type": "code",
      "metadata": {
        "id": "P2KI5msHOi-1",
        "cellView": "form"
      },
      "source": [
        "#@title \n",
        "x = 3\n",
        "y = 2\n",
        "\n",
        "n = [[1 for j in range(y)] for i in range(x)]\n",
        "n[0][0] = \"Joe\"\n",
        "n[1][0] = \"Sam\"\n",
        "n[2][0] = \"Jim\"\n",
        "n[0][1] = 3.2\n",
        "n[1][1] = 2.1\n",
        "n[2][1] = 4.6\n",
        "print(n)"
      ],
      "execution_count": null,
      "outputs": []
    },
    {
      "cell_type": "code",
      "metadata": {
        "id": "ieDUOC2XOjUv"
      },
      "source": [
        "#\n",
        "# Complete the 'test' function below.\n",
        "#\n",
        "# The function accepts a 2 dimensional LIST n as parameter.\n",
        "# The list has the format string, float for each row\n",
        "# Return the average of the floats\n",
        "\n",
        "def test(n):\n",
        "# Write your code here \n"
      ],
      "execution_count": null,
      "outputs": []
    },
    {
      "cell_type": "code",
      "metadata": {
        "id": "i40ko8lvOjiP",
        "cellView": "form"
      },
      "source": [
        "#@title \n",
        "if test(n) == 3.3:\n",
        "  print(\"CORRECT\")\n",
        "else:\n",
        "  print(\"TRY AGAIN\")"
      ],
      "execution_count": null,
      "outputs": []
    },
    {
      "cell_type": "markdown",
      "metadata": {
        "id": "5SzX1WrvkxZi"
      },
      "source": [
        "**Example 6**"
      ]
    },
    {
      "cell_type": "code",
      "metadata": {
        "id": "vrLr5CBWk1Tm",
        "cellView": "form"
      },
      "source": [
        "#@title \n",
        "x = 6\n",
        "y = 2\n",
        "n = [[1 for j in range(y)] for i in range(x)]\n",
        "n[0][0] = \"Transmission\"\n",
        "n[1][0] = \"Trans\"\n",
        "n[2][0] = \"tx\"\n",
        "n[3][0] = \"Engine\"\n",
        "n[4][0] = \"Eng\"\n",
        "n[5][0] = \"engien\"\n",
        "\n",
        "n[0][1] = \"leaking\"\n",
        "n[1][1] = \"missing\"\n",
        "n[2][1] = \"leaking fluid\"\n",
        "n[3][1] = \"oil leak\"\n",
        "n[4][1] = \"leaking oil\"\n",
        "n[5][1] = \"bolt missing\"\n",
        "#print(n)"
      ],
      "execution_count": null,
      "outputs": []
    },
    {
      "cell_type": "code",
      "metadata": {
        "id": "oowLeCzHk1i9"
      },
      "source": [
        "#\n",
        "# Complete the 'test' function below.\n",
        "#\n",
        "# The function accepts a 2 dimensional LIST n as parameter.\n",
        "# The list has the format: \n",
        "#tractor part (a string)\n",
        "#description of issue with part (a string) for each row\n",
        "\n",
        "#Return the number of transmissions that have leaks\n",
        "#Also return the number of engines that have leaks\n",
        "#Return should have form num of transmissions with leaks, num of engines with leaks\n",
        "#Sample return: \n",
        "#   4, 4 \n",
        "\n",
        "def test(n):\n",
        "# Write your code here "
      ],
      "execution_count": null,
      "outputs": []
    },
    {
      "cell_type": "code",
      "metadata": {
        "id": "oY7KU0Xx40AM",
        "cellView": "form"
      },
      "source": [
        "#@title \n",
        "t,e = test(n)\n",
        "print(t,e)"
      ],
      "execution_count": null,
      "outputs": []
    },
    {
      "cell_type": "code",
      "metadata": {
        "id": "cxZ1eGuUBCq2",
        "cellView": "form"
      },
      "source": [
        "#@title \n",
        "def test(n):\n",
        "  countT = 0\n",
        "  countE = 0\n",
        "  for i in n:\n",
        "    partName = i[0].lower()\n",
        "    #print(partName)\n",
        "    if('t' in partName):\n",
        "      if(\"leak\" in i[1].lower()):\n",
        "        countT = countT+1\n",
        "    if('e' in partName):\n",
        "      if(\"leak\" in i[1].lower()):\n",
        "        countE = countE+1  \n",
        "  return countT,countE"
      ],
      "execution_count": null,
      "outputs": []
    }
  ]
}